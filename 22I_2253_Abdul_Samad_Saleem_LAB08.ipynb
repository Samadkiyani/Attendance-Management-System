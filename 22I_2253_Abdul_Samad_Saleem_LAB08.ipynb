{
  "nbformat": 4,
  "nbformat_minor": 0,
  "metadata": {
    "colab": {
      "provenance": [],
      "include_colab_link": true
    },
    "kernelspec": {
      "name": "python3",
      "display_name": "Python 3"
    },
    "language_info": {
      "name": "python"
    }
  },
  "cells": [
    {
      "cell_type": "markdown",
      "metadata": {
        "id": "view-in-github",
        "colab_type": "text"
      },
      "source": [
        "<a href=\"https://colab.research.google.com/github/Samadkiyani/Attendance-Management-System/blob/main/22I_2253_Abdul_Samad_Saleem_LAB08.ipynb\" target=\"_parent\"><img src=\"https://colab.research.google.com/assets/colab-badge.svg\" alt=\"Open In Colab\"/></a>"
      ]
    },
    {
      "cell_type": "markdown",
      "source": [
        "# **Week 8 Lab: Exception Handling in Python**\n",
        "\n",
        "### **Objective:**\n",
        "\n",
        "This lab session will help students understand and apply exception handling in Python through practical tasks. By the end of the session, students should be able to:\n",
        "\n",
        "- Identify and handle common exceptions.\n",
        "- Implement `try-except` blocks effectively.\n",
        "- Use `finally` and `else` clauses.\n",
        "- Raise and handle specific exceptions.\n",
        "- Apply exception handling in real-world financial applications.\n",
        "\n",
        "---\n",
        "\n",
        "### **Lab Structure:**\n",
        "\n",
        "**Duration:** 2 Hours  \n",
        "**Tasks:** 7  \n",
        "**Assessment:** Each task will be graded based on correctness and efficiency.\n",
        "\n",
        "---\n",
        "\n",
        "## **Task 1: Identifying Common Exceptions**\n",
        "\n",
        "**Objective:** Learn to recognize and handle common Python exceptions.\n",
        "\n",
        "🔹 **Instructions:**\n",
        "\n",
        "1. Write a Python program that performs the following operations:\n",
        "   - Divides a number by zero.\n",
        "   - Tries to access a variable that has not been defined.\n",
        "   - Attempts to convert an invalid string (`\"abc\"`) to an integer.\n",
        "   - Tries to access a dictionary key that does not exist.\n",
        "2. Use `try-except` blocks to handle each of these errors.\n",
        "3. Display a user-friendly message explaining the error when an exception occurs.\n",
        "\n",
        "\n",
        "\n",
        "\n",
        "\n",
        "\n",
        "\n",
        "\n",
        "\n",
        "\n",
        "\n"
      ],
      "metadata": {
        "id": "FP5OIpTNiJv3"
      }
    },
    {
      "cell_type": "code",
      "source": [
        "try:\n",
        "  print(100/0)\n",
        "except ZeroDivisionError:\n",
        "  print(\"canot divide by 0\")\n",
        "try:\n",
        "  print(z)\n",
        "except NameError:\n",
        "  print(\"variable is not defined\")\n",
        "try:\n",
        "  int(\"abc\")\n",
        "except ValueError:\n",
        "  print(\"canot covert to integer\")\n",
        "try:\n",
        "  dic={\"name\":\"samad\"}\n",
        "  print(dic[\"age\"])\n",
        "except KeyError:\n",
        "  print(\"dictionary key not found in the dictionary\")\n",
        "\n"
      ],
      "metadata": {
        "id": "mB49nrcJjgAt",
        "outputId": "295108d4-0f33-438d-b2ce-5cbd08a5300d",
        "colab": {
          "base_uri": "https://localhost:8080/"
        }
      },
      "execution_count": 2,
      "outputs": [
        {
          "output_type": "stream",
          "name": "stdout",
          "text": [
            "canot divide by 0\n",
            "variable is not defined\n",
            "canot covert to integer\n",
            "dictionary key not found in the dictionary\n"
          ]
        }
      ]
    },
    {
      "cell_type": "markdown",
      "source": [
        "## **Task 2: Using `try-except-else-finally`**\n",
        "\n",
        "**Objective:** Learn to use complete exception handling structures.\n",
        "\n",
        "**Instructions:**\n",
        "\n",
        "1. Write a Python function that:\n",
        "   - Asks the user to enter two numbers.\n",
        "   - Attempts to divide the first number by the second.\n",
        "   - Uses `try-except` to handle errors such as division by zero and invalid inputs.\n",
        "   - Uses `else` to display the result if no error occurs.\n",
        "   - Uses `finally` to print a message indicating that execution is complete."
      ],
      "metadata": {
        "id": "psq_lx4yjWeu"
      }
    },
    {
      "cell_type": "code",
      "source": [
        "def num():\n",
        "  try:\n",
        "    n1=float(input(\"Enter First number\"))\n",
        "    n2=float(input(\"Enter Second number\"))\n",
        "    div=n1/n2\n",
        "  except ZeroDivisionError:\n",
        "    print(\"Canot divide it by 0\")\n",
        "  except ValueError:\n",
        "    print(\"invalid input\")\n",
        "  else:\n",
        "    print(div)\n",
        "  finally:\n",
        "    print(\"Done\")\n",
        "num()"
      ],
      "metadata": {
        "id": "qz7VowtNjOrG",
        "colab": {
          "base_uri": "https://localhost:8080/"
        },
        "outputId": "77aa55fd-347e-44ef-e809-b2d483507218"
      },
      "execution_count": 6,
      "outputs": [
        {
          "output_type": "stream",
          "name": "stdout",
          "text": [
            "Enter First number25\n",
            "Enter Second number23\n",
            "1.0869565217391304\n",
            "Done\n"
          ]
        }
      ]
    },
    {
      "cell_type": "markdown",
      "source": [
        "## **Task 3: Handling Nested Exceptions**\n",
        "\n",
        "**Objective:** Handle exceptions using nested `try-except` blocks.\n",
        "\n",
        "**Instructions:**\n",
        "\n",
        "1. Write a Python function that:\n",
        "   - Asks the user to enter a filename.\n",
        "   - Tries to open the file for reading.\n",
        "   - Asks the user to enter a number and divides 100 by that number.\n",
        "2. Implement nested `try-except` blocks to handle both `FileNotFoundError` (if the file is missing) and `ZeroDivisionError` (if division by zero occurs).\n",
        "3. Display appropriate error messages and ensure the program completes execution."
      ],
      "metadata": {
        "id": "Hb9LysAkjF1A"
      }
    },
    {
      "cell_type": "code",
      "source": [
        "def handle_nested_exceptions():\n",
        "  try:\n",
        "    filename=input(\"enter file name:\")\n",
        "    try:\n",
        "      with open(filename,\"r\") as file:\n",
        "        print(\"file opened\")\n",
        "    except FileNotFoundError:\n",
        "      print(\"file not found\")\n",
        "    try:\n",
        "      number=int(input(\"enter number to divide by 100:\"))\n",
        "      n=100/number\n",
        "      print(n)\n",
        "    except ZeroDivisionError:\n",
        "      print(\"canot divide it by zero\")\n",
        "    except ValueError:\n",
        "      print(\"Invalid Input\")\n",
        "  finally:\n",
        "    print(\"done\")\n",
        "\n",
        "handle_nested_exceptions()\n"
      ],
      "metadata": {
        "id": "Z0QV5Z0fjDNc",
        "colab": {
          "base_uri": "https://localhost:8080/"
        },
        "outputId": "c27b8728-308a-4dbb-a564-1ee10899f591"
      },
      "execution_count": 4,
      "outputs": [
        {
          "output_type": "stream",
          "name": "stdout",
          "text": [
            "enter file namesamad\n",
            "file not found\n",
            "enter number to divide by 1002\n",
            "50.0\n",
            "done\n"
          ]
        }
      ]
    },
    {
      "cell_type": "markdown",
      "source": [
        "## **Task 4: Exception Handling in Financial Calculations**\n",
        "\n",
        "**Objective:** Implement exception handling in financial calculations.\n",
        "\n",
        "**Instructions:**\n",
        "\n",
        "1. Create a list of stock prices, some of which include zero or non-numeric values.\n",
        "2. Attempt to calculate the percentage change between consecutive prices.\n",
        "3. Handle errors caused by division by zero and invalid data types.\n",
        "4. Ensure that the program continues running even when errors occur."
      ],
      "metadata": {
        "id": "ivTzDRFei-SY"
      }
    },
    {
      "cell_type": "code",
      "source": [
        "stock_prices = [100, 200, 0, \"samad\", 120, 500, 400, 650]\n",
        "\n",
        "for i in range(len(stock_prices) - 1):\n",
        "    try:\n",
        "        p = float(stock_prices[0])\n",
        "        c = float(stock_prices[1])\n",
        "\n",
        "        if p == 0:\n",
        "            print(\"Error: Division by zero. Skipping...\")\n",
        "        else:\n",
        "            percentage_change = (c / p) * 100\n",
        "            print(percentage_change)\n",
        "\n",
        "        stock_prices.pop(0)\n",
        "    except ValueError:\n",
        "        print(\"Invalid Data\")\n",
        "        stock_prices.pop(0)\n"
      ],
      "metadata": {
        "id": "jFhlAGldi49s",
        "colab": {
          "base_uri": "https://localhost:8080/"
        },
        "outputId": "d8c4ae91-f76f-4788-8d4b-13fc5fdc741f"
      },
      "execution_count": 13,
      "outputs": [
        {
          "output_type": "stream",
          "name": "stdout",
          "text": [
            "200.0\n",
            "0.0\n",
            "Invalid Data\n",
            "Invalid Data\n",
            "416.6666666666667\n",
            "80.0\n",
            "162.5\n"
          ]
        }
      ]
    },
    {
      "cell_type": "markdown",
      "source": [
        "## **Task 5: Exception Handling in File Operations**\n",
        "\n",
        "**Objective:** Learn to handle file-related errors.\n",
        "\n",
        "**Instructions:**\n",
        "\n",
        "1. Ask the user for a filename.\n",
        "2. Try to open and read the file.\n",
        "3. Handle `FileNotFoundError` if the file does not exist.\n",
        "4. Use `finally` to print a completion message."
      ],
      "metadata": {
        "id": "DEQZUxY8iugd"
      }
    },
    {
      "cell_type": "code",
      "source": [
        "try:\n",
        "  filename=input(\"enter filename\")\n",
        "  with open(filename,\"r\") as file:\n",
        "    c=file.read()\n",
        "    print(c)\n",
        "except FileNotFoundError:\n",
        "  print(\"Invalid file\")\n",
        "finally:\n",
        "  print(\"Done\")"
      ],
      "metadata": {
        "id": "QAkka23_ir6H",
        "colab": {
          "base_uri": "https://localhost:8080/"
        },
        "outputId": "d1835055-6c09-4f0e-ce74-0e14fc5b7146"
      },
      "execution_count": 14,
      "outputs": [
        {
          "output_type": "stream",
          "name": "stdout",
          "text": [
            "enter filenameKiyani\n",
            "Invalid file\n",
            "Done\n"
          ]
        }
      ]
    },
    {
      "cell_type": "markdown",
      "source": [
        "## **Task 6: Raising Custom Exceptions Without Classes**\n",
        "\n",
        "**Objective:** Learn to raise and handle specific exceptions.\n",
        "\n",
        "**Instructions:**\n",
        "\n",
        "1. Write a function that checks if a number is negative.\n",
        "2. If the number is negative, raise a `ValueError`.\n",
        "3. Handle the exception with an appropriate message."
      ],
      "metadata": {
        "id": "WyhcCwlhicUl"
      }
    },
    {
      "cell_type": "code",
      "execution_count": 15,
      "metadata": {
        "id": "ySZnVpRhiGiH",
        "colab": {
          "base_uri": "https://localhost:8080/"
        },
        "outputId": "ce990f50-72b8-45d8-d5c6-2900684e8df5"
      },
      "outputs": [
        {
          "output_type": "stream",
          "name": "stdout",
          "text": [
            "enter a number45\n",
            "valid number\n"
          ]
        }
      ],
      "source": [
        "def neg_num(n):\n",
        "  if n<0:\n",
        "    raise ValueError(\"-ve num is not allowed\")\n",
        "  print(\"valid number\")\n",
        "try:\n",
        "  num=int(input(\"enter a number\"))\n",
        "  neg_num(num)\n",
        "except ValueError as v:\n",
        "  print(v)\n"
      ]
    },
    {
      "cell_type": "markdown",
      "source": [
        "## **Task 7: Loan Eligibility Check with Exception Handling**  \n",
        "**Objective:** Implement exception handling in a financial scenario to determine loan eligibility.  \n",
        "\n",
        "**Instructions:**  \n",
        "1. Ask the user to enter:  \n",
        "   - Their **age** (must be an integer and ≥ 18).  \n",
        "   - Their **monthly income** (must be a positive number).  \n",
        "   - Their **loan amount requested** (must not exceed 10 times their income).  \n",
        "2. Use `try-except` to handle the following errors:  \n",
        "   - If age is less than 18, raise a **ValueError**.  \n",
        "   - If income or loan amount is invalid (negative or zero), raise a **ValueError**.  \n",
        "   - If the loan amount is too high (more than 10 times the income), raise a **custom exception** with a relevant message.  \n",
        "3. Print a message indicating whether the loan is **approved** or **denied**.  \n"
      ],
      "metadata": {
        "id": "sdoCtY_ymIVf"
      }
    },
    {
      "cell_type": "code",
      "source": [
        "age=int(input(\"Enter age\"))\n",
        "income=int(input(\"Enter Income\"))\n",
        "loan=int(input(\"Enter Loan\"))\n",
        "try:\n",
        "  if age<18:\n",
        "    raise ValueError(\"age should be greater than 18\")\n",
        "  if income<=0 or loan<=0:\n",
        "    raise ValueError(\"income and loan amount to be +ve\")\n",
        "  if loan>10*income:\n",
        "    raise ValueError(\"loan must not exceed 10 times than income\")\n",
        "    print(\"loan approved\")\n",
        "except ValueError as a:\n",
        "  print(a)\n",
        "except ValueError as b:\n",
        "  print(b)\n",
        "except ValueError as c:\n",
        "  print(c)\n"
      ],
      "metadata": {
        "id": "vc-LGFN7mIEt",
        "colab": {
          "base_uri": "https://localhost:8080/"
        },
        "outputId": "050da068-56e8-4cf0-daf7-db5921824745"
      },
      "execution_count": 17,
      "outputs": [
        {
          "output_type": "stream",
          "name": "stdout",
          "text": [
            "Enter age12\n",
            "Enter Income65000\n",
            "Enter Loan2500\n",
            "age should be greater than 18\n"
          ]
        }
      ]
    }
  ]
}